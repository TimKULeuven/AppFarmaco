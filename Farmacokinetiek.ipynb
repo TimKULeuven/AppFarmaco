{
 "cells": [
  {
   "cell_type": "markdown",
   "metadata": {},
   "source": [
    "Klik hierboven op *Cell*, en dan *Run all* om deze notebook uit te voeren."
   ]
  },
  {
   "cell_type": "code",
   "execution_count": 7,
   "metadata": {},
   "outputs": [
    {
     "data": {
      "application/javascript": [
       "IPython.OutputArea.prototype._should_scroll = function(lines) {\n",
       "    return false;\n",
       "}\n"
      ],
      "text/plain": [
       "<IPython.core.display.Javascript object>"
      ]
     },
     "metadata": {},
     "output_type": "display_data"
    }
   ],
   "source": [
    "%%javascript\n",
    "IPython.OutputArea.prototype._should_scroll = function(lines) {\n",
    "    return false;\n",
    "}"
   ]
  },
  {
   "cell_type": "code",
   "execution_count": 8,
   "metadata": {
    "scrolled": true
   },
   "outputs": [
    {
     "data": {
      "text/html": [
       "<script>\n",
       "  function code_toggle() {\n",
       "    if (code_shown){\n",
       "      $('div.input').hide('500');\n",
       "      $('#toggleButton').val('Toon Python code')\n",
       "    } else {\n",
       "      $('div.input').show('500');\n",
       "      $('#toggleButton').val('Verberg Python code')\n",
       "    }\n",
       "    code_shown = !code_shown\n",
       "  }\n",
       "\n",
       "  $( document ).ready(function(){\n",
       "    code_shown=false;\n",
       "    $('div.input').hide()\n",
       "  });\n",
       "</script>\n",
       "<form action=\"javascript:code_toggle()\"><input type=\"submit\" id=\"toggleButton\" value=\"Toon Python code\"></form>"
      ],
      "text/plain": [
       "<IPython.core.display.HTML object>"
      ]
     },
     "execution_count": 8,
     "metadata": {},
     "output_type": "execute_result"
    }
   ],
   "source": [
    "from IPython.display import HTML\n",
    "\n",
    "HTML('''<script>\n",
    "  function code_toggle() {\n",
    "    if (code_shown){\n",
    "      $('div.input').hide('500');\n",
    "      $('#toggleButton').val('Toon Python code')\n",
    "    } else {\n",
    "      $('div.input').show('500');\n",
    "      $('#toggleButton').val('Verberg Python code')\n",
    "    }\n",
    "    code_shown = !code_shown\n",
    "  }\n",
    "\n",
    "  $( document ).ready(function(){\n",
    "    code_shown=false;\n",
    "    $('div.input').hide()\n",
    "  });\n",
    "</script>\n",
    "<form action=\"javascript:code_toggle()\"><input type=\"submit\" id=\"toggleButton\" value=\"Toon Python code\"></form>''')"
   ]
  },
  {
   "cell_type": "code",
   "execution_count": 9,
   "metadata": {},
   "outputs": [],
   "source": [
    "# General Purpose\n",
    "import numpy as np\n",
    "from matplotlib import pyplot as plt\n",
    "from scipy.integrate import odeint\n",
    "\n",
    "# Jupyter Specifics\n",
    "from IPython.display import HTML\n",
    "from ipywidgets.widgets import interact, IntSlider, FloatSlider, Layout\n",
    "\n",
    "%matplotlib inline\n",
    "\n",
    "style = {'description_width': '150px'}\n",
    "slider_layout = Layout(width='50%')"
   ]
  },
  {
   "cell_type": "markdown",
   "metadata": {},
   "source": [
    "# OEF 3"
   ]
  },
  {
   "cell_type": "markdown",
   "metadata": {},
   "source": [
    "De plasmaconcentratie-tijdscurve van een geneesmiddel dat IV wordt toegediend, in een dosis van\n",
    "300 mg, kan door de volgende vergelijking beschreven worden:\n",
    "$C_p = 78 e^{-0.46 t}$ (met $C_p$ in mg/mL en $t$ in u)\n",
    "<ul>\n",
    "<li>Bepaal de halfwaardetijd, verdelingsvolume, klaring.</li>\n",
    "<li>Wat is de concentratie 4 u na toediening?</li>\n",
    "<li>Hoeveel geneesmiddel blijft over in het organisme 4 u na toediening?</li>\n",
    "</ul>"
   ]
  },
  {
   "cell_type": "code",
   "execution_count": 10,
   "metadata": {},
   "outputs": [
    {
     "data": {
      "image/png": "[encoded data removed]",
      "text/plain": [
       "<Figure size 720x504 with 1 Axes>"
      ]
     },
     "metadata": {
      "needs_background": "light"
     },
     "output_type": "display_data"
    }
   ],
   "source": [
    "xmax=12\n",
    "ymax=140\n",
    "\n",
    "t = np.linspace(0,xmax,100)\n",
    "\n",
    "\n",
    "def cp(t):\n",
    "    return 78*np.exp(-0.46*t)\n",
    "    \n",
    "    \n",
    "plt.figure(figsize=(10,7))\n",
    "    \n",
    "plt.subplot(111)\n",
    "plt.plot(t,cp(t), 'k--',label='$78 e^{-0.46t}$')\n",
    "plt.xlim(0,xmax)\n",
    "plt.ylim(0,ymax)\n",
    "plt.legend()\n",
    "plt.xlabel('t (h)')\n",
    "plt.ylabel('$C_p$ (mg/mL)')\n",
    "plt.show()"
   ]
  },
  {
   "cell_type": "markdown",
   "metadata": {},
   "source": [
    "Meer algemeen wordt de plasmaconcentratie-tijdscurve van een geneesmiddel dat IV wordt toegediend gegeven door\n",
    "\n",
    "$C_p = \\dfrac{D}{V_d}e^{-k_e t} $, \n",
    "\n",
    "met $C_p$ de plasmaconcentratie, $D$ de toegediende dosis, $V_d$ het distributievolume en $k_e$ de eliminatiesnelheidsconstante. In onderstaande animatie kan men nagaan hoe een verandering in deze parameters de plasmaconcentratie-tijdscurve beïnvloedt."
   ]
  },
  {
   "cell_type": "code",
   "execution_count": 11,
   "metadata": {
    "scrolled": true
   },
   "outputs": [
    {
     "data": {
      "application/vnd.jupyter.widget-view+json": {
       "model_id": "741db068696c40e8b1d2f46a362fed06",
       "version_major": 2,
       "version_minor": 0
      },
      "text/plain": [
       "interactive(children=(FloatSlider(value=300.0, description='$D$', layout=Layout(width='50%'), max=450.0, min=1…"
      ]
     },
     "metadata": {},
     "output_type": "display_data"
    }
   ],
   "source": [
    "xmax3=12\n",
    "ymax3=140\n",
    "\n",
    "t3 = np.linspace(0,xmax3,100)\n",
    "\n",
    "def cp(t):\n",
    "    return 78*np.exp(-0.46*t)\n",
    "\n",
    "\n",
    "\n",
    "def oef3(D,Vd,ke):\n",
    "\n",
    "\n",
    "    \n",
    "    \n",
    "    def cpvrij(t):\n",
    "        return D/Vd*np.exp(-ke*t)\n",
    "    \n",
    "    plt.figure(figsize=(10,7))\n",
    "    \n",
    "    plt.subplot(111)\n",
    "    plt.plot(t3,cp(t3), 'k--',label='$78 e^{-0.46t}$')\n",
    "    plt.plot(t3,cpvrij(t3), 'r',label='$\\dfrac{D}{V_d} e^{-k_et}$')\n",
    "    plt.text(0.1,D/Vd+0.1,'$C_p(0)=\\dfrac{D}{V_d}$', color='red',fontsize=12)\n",
    "    plt.plot([0,0.693/ke], [D/Vd/2,D/Vd/2], 'r--')\n",
    "    plt.plot([0.693/ke,0.693/ke], [D/Vd/2,0], 'r--')    \n",
    "    plt.text(0.1,D/Vd/2+3.5,'$\\dfrac{[C](0)}{2}$', color='red', fontsize=12)\n",
    "    plt.text(0.693/ke+0.1,2,'$t_{1/2}$', color='red', fontsize=12)\n",
    "    plt.xlim(0,xmax3)\n",
    "    plt.ylim(0,ymax3)\n",
    "    plt.legend()\n",
    "    plt.xlabel('t (h)')\n",
    "    plt.ylabel('$C_p$ (mg/mL)')\n",
    "    plt.show()\n",
    "\n",
    "interact(oef3, ke=FloatSlider(min=0.2, max=0.6, step=0.04, value=0.46, description='$k_e$', style=style, layout=slider_layout)\n",
    "        , D=FloatSlider(min=100, max=450, step=50, value=300, description='$D$', style=style, layout=slider_layout)\n",
    "        , Vd=FloatSlider(min=3, max=5,step=0.2, value=3.8, description='$V_d$', style=style, layout=slider_layout));"
   ]
  },
  {
   "cell_type": "markdown",
   "metadata": {},
   "source": [
    "# OEF 6"
   ]
  },
  {
   "cell_type": "markdown",
   "metadata": {},
   "source": [
    "Een éénmalige IV dosis (6 mg/kg) van een antibioticum wordt toegediend aan een vrouw (50 kg).\n",
    "Bloedstalen worden afgenomen in functie van de tijd. De concentraties in het plasma in functie van de\n",
    "tijd worden links in onderstaande figuur afgebeeld, samen met het wiskundig model\n",
    "\n",
    "$C_p = \\dfrac{D}{V_d}e^{-\\dfrac{Cl}{V_d} t} $, \n",
    "\n",
    "met $C_p$ de plasmaconcentratie, $D$ de toegediende dosis, $V_d$ het distributievolume en $Cl$ de klaring. De rechtse figuur stelt dezelfde data en hetzelfde model voor, maar nu op een semi-logaritmische schaal.\n",
    "\n",
    "\n",
    "\n",
    "<ul>\n",
    "<li>Schat aan de hand van onderstaande animatie de waarden van $V_d$, $Cl$ en $t_{1/2}$.</li>\n",
    "<li>Dit antibioticum is niet effectief bij een concentratie $C_p < 2$ mg/ml. Wat is de duur van het effect?</li>\n",
    "<li>Hoelang zal het duren om $98.4\\%$ van de dosis te elimineren?</li>\n",
    "<li>Wat is de duur van het effect als de dosis wordt verdubbeld?</li>\n",
    "</ul>\n"
   ]
  },
  {
   "cell_type": "code",
   "execution_count": 12,
   "metadata": {},
   "outputs": [
    {
     "data": {
      "application/vnd.jupyter.widget-view+json": {
       "model_id": "7131d43395ad4cab958972dfb36ca6c5",
       "version_major": 2,
       "version_minor": 0
      },
      "text/plain": [
       "interactive(children=(FloatSlider(value=20.0, description='$V_d$', layout=Layout(width='50%'), max=50.0, min=5…"
      ]
     },
     "metadata": {},
     "output_type": "display_data"
    }
   ],
   "source": [
    "x6 = [0.25,0.5,1,3,6,12,18]\n",
    "y6 = [8.21,7.87,7.23,5.15,3.09,1.11,0.4]\n",
    "logy6 = [0.914343157,0.895974732,0.859138297,0.711807229,0.489958479,0.045322979,-0.397940009]\n",
    "xmax6=18\n",
    "ymax6=10\n",
    "t6 = np.linspace(0,xmax6,30)\n",
    "\n",
    "def oef6(Vd,Cl,D):\n",
    "    \n",
    "\n",
    "    def cpvrij(t):\n",
    "        return D/Vd*np.exp(-(Cl/Vd)*t)\n",
    "    def cplog(t):\n",
    "        return np.log10(D/Vd)-(Cl/Vd)*t/2.303\n",
    "    \n",
    "    (fig, ax) = plt.subplots(1, 2, sharey=False,figsize=(15,7))\n",
    "    ax[0].plot(t6,cpvrij(t6), 'k',label='$C_p(t)=\\dfrac{D}{V_d} e^{-\\dfrac{Cl}{V_d}t}$')\n",
    "    #plt.text(0.1,D/Vd+0.1,'$C_p(0)=\\dfrac{D}{V_d}$', color='red',fontsize=12)\n",
    "    ax[0].plot(x6, y6, 'o', color='g')\n",
    "    ax[0].plot([0,xmax6], [2,2], 'k--')\n",
    "    ax[0].text(xmax6-2.5,2+0.2,'$2$ mg/ml', color='black', fontsize=12)\n",
    "#    ax1.xlim(0,xmax)\n",
    "#    ax1.ylim(0,ymax)\n",
    "    ax[0].legend()\n",
    "#    ax1.xlabel('t (h)')\n",
    "#    ax1.ylabel('$C_p$ (mg/mL)')\n",
    "    \n",
    "    ax[1].plot(t6,cplog(t6), 'k',label='$\\log(C_p(t))=\\log(\\dfrac{D}{V_d})-\\dfrac{1}{2.303}\\dfrac{Cl}{V_d}t$')\n",
    "    #plt.text(0.1,D/Vd+0.1,'$C_p(0)=\\dfrac{D}{V_d}$', color='red',fontsize=12)\n",
    "    ax[1].plot(x6, logy6, 'o', color='r')\n",
    "    ax[1].plot([0,xmax6], [0.30102999566,0.30102999566], 'k--')\n",
    "    ax[1].text(xmax6-1.9,0.30102999566+0.02,'$\\log(2)$', color='black', fontsize=12)\n",
    " #   ax2.xlim(0,xmax)\n",
    "#    ax2.ylim(0,ymax)\n",
    "    ax[1].legend()\n",
    " #   ax2.xlabel('t (h)')\n",
    " #   ax2.ylabel('$\\log(C_p)$')\n",
    "    ax[0].set_ylabel('$C_p$ (mg/mL)')\n",
    "    ax[0].set_xlabel('t (h)')\n",
    "    ax[1].set_ylabel('$\\log(C_p)$')\n",
    "    ax[1].set_xlabel('t (h)')\n",
    "    \n",
    "    ax[0].set_xlim([0,xmax6])\n",
    "    ax[0].set_ylim([0,ymax6])\n",
    "    ax[1].set_xlim([0,xmax6])\n",
    "    ax[1].set_ylim([0,1])\n",
    "    plt.show()\n",
    "    \n",
    "interact(oef6,Cl=FloatSlider(min=1, max=10, step=1, value=5, description='$Cl$', style=style, layout=slider_layout)\n",
    "        , Vd=FloatSlider(min=5, max=50,step=5, value=20, description='$V_d$', style=style, layout=slider_layout)\n",
    "        , D=FloatSlider(min=200, max=600,step=100, value=300, description='$D$', style=style, layout=slider_layout));\n",
    "\n"
   ]
  },
  {
   "cell_type": "markdown",
   "metadata": {},
   "source": [
    "# OEF 7"
   ]
  },
  {
   "cell_type": "markdown",
   "metadata": {},
   "source": [
    "Een anestheticum heeft een distributievolume van 15 L en een minimum effectieve concentratie van\n",
    "2 μg/mL. Na intraveneuze toediening van 120 mg vertoont het product een anesthetisch effect voor 6 u.\n",
    "\n",
    "<ul>\n",
    "<li>Bereken de eliminatiehalfwaardetijd van het geneesmiddel.</li>\n",
    "<li>Bereken de verwachte duur van het effect als de dosis 240 mg zou zijn.</li>\n",
    "<li>Bereken de laagste dosis die een effect zou geven voor 3 u.</li>\n",
    "</ul>"
   ]
  },
  {
   "cell_type": "code",
   "execution_count": 13,
   "metadata": {},
   "outputs": [
    {
     "data": {
      "application/vnd.jupyter.widget-view+json": {
       "model_id": "07ef876cf6f64612990aba8a116e8161",
       "version_major": 2,
       "version_minor": 0
      },
      "text/plain": [
       "interactive(children=(FloatSlider(value=15.0, description='$V_d$', layout=Layout(width='50%'), max=20.0, min=1…"
      ]
     },
     "metadata": {},
     "output_type": "display_data"
    }
   ],
   "source": [
    "ke7=0.231\n",
    "\n",
    "xmax7=10\n",
    "ymax7=18\n",
    "t7 = np.linspace(0,xmax7,100)\n",
    "\n",
    "def oef7(Vd,D,mec):\n",
    "    \n",
    "    def cpvrij(t):\n",
    "        return D/Vd*np.exp(-ke7*t)\n",
    "    \n",
    "    plt.figure(figsize=(10,7))\n",
    "    plt.subplot(111)\n",
    "    plt.plot(t7,cpvrij(t7), 'k',label='$\\dfrac{D}{V_d} e^{-k_et}$')\n",
    "    #plt.text(0.1,D/Vd+0.1,'$C_p(0)=\\dfrac{D}{V_d}$', fontsize=12)\n",
    "    \n",
    "    \n",
    "    plt.text(xmax7-3.6,mec+0.1,'minimum effectieve concentratie', fontsize=12)\n",
    "    plt.plot([0,xmax7], [mec,mec], 'k--')\n",
    "    plt.xlim(0,xmax7)\n",
    "    plt.ylim(0,ymax7)\n",
    "    plt.legend()\n",
    "    plt.xlabel('t (h)')\n",
    "    plt.ylabel('$C_p$ (µg/mL)')\n",
    "    plt.show()\n",
    "    \n",
    "interact(oef7,D=FloatSlider(min=100, max=240, step=20, value=120, description='$D$', style=style, layout=slider_layout)\n",
    "        , Vd=FloatSlider(min=10, max=20,step=2, value=15, description='$V_d$', style=style, layout=slider_layout)\n",
    "        , mec=FloatSlider(min=1, max=6,step=0.5, value=2, description='minimum effectieve concentratie', style=style, layout=slider_layout));"
   ]
  },
  {
   "cell_type": "markdown",
   "metadata": {},
   "source": [
    "# OEF 10"
   ]
  },
  {
   "cell_type": "markdown",
   "metadata": {},
   "source": [
    "Aan een vrijwilliger dient men peroraal 500 mg geneesmiddel toe. In onderstaande figuur worden de bloedspiegels semilogaritmisch\n",
    "uitgezet. Bepaal de halfwaardetijd, de eliminatiesnelheidsconstante ($k_e$) en de absorptiesnelheidsconstante ($k_a$)."
   ]
  },
  {
   "cell_type": "code",
   "execution_count": 14,
   "metadata": {
    "scrolled": true
   },
   "outputs": [
    {
     "data": {
      "application/vnd.jupyter.widget-view+json": {
       "model_id": "21c9e4b636dd4c63b5300df217833e6b",
       "version_major": 2,
       "version_minor": 0
      },
      "text/plain": [
       "interactive(children=(FloatSlider(value=30.0, description='$FD/V_d$', layout=Layout(width='50%'), max=40.0, mi…"
      ]
     },
     "metadata": {},
     "output_type": "display_data"
    }
   ],
   "source": [
    "x10 = [0.25,0.5,1,1.5,2,3,4,6,9,12]\n",
    "y10 = [9.6,13.8,19.9,20.7,19.8,15.4,13.4,6.5,3.8,1.7]\n",
    "yln10 = np.log(y10)\n",
    "\n",
    "xmax10=15\n",
    "ymax10=5\n",
    "\n",
    "t10 = np.linspace(0,xmax10,100)\n",
    "\n",
    "\n",
    "def oef10(fac,ke,ka):\n",
    "    \n",
    "    def kar(t):\n",
    "        return np.log(fac*ka/(ka-ke)) - ka*t\n",
    "    \n",
    "    def ker(t):\n",
    "        return np.log(fac*ka/(ka-ke)) - ke*t\n",
    "    \n",
    "    \n",
    "    plt.figure(figsize=(10,7))\n",
    "    plt.subplot(111)\n",
    "    plt.plot(x10, yln10, 'o', color='g',label='meetdata')\n",
    "    \n",
    "    plt.plot(t10,ker(t10), 'g',label='$\\ln I - k_e t$')\n",
    "    \n",
    "    \n",
    "    \n",
    "    \n",
    "    \n",
    "    \n",
    "    plt.plot(0, np.log(fac*ka/(ka-ke)), 'o', color='k')\n",
    "    plt.text(0.2,np.log(fac*ka/(ka-ke))-0.1,'$\\ln I= \\ln \\dfrac{FDk_a}{V_d (k_a-k_e)}$', fontsize=12)\n",
    "    \n",
    "    \n",
    "    \n",
    "    plt.plot(np.array(x10[0:4]), np.log(np.exp(ker(np.array(x10[0:4])))-y10[0:4]), 'o', color='b',label='$\\ln (C_p^{´} - C_p)$')\n",
    "    plt.plot(t10,kar(t10), 'b',label='$\\ln I - k_a t$')\n",
    "    \n",
    "    plt.xlim(0,xmax10)\n",
    "    plt.ylim(0,ymax10)\n",
    "    plt.xlabel('t')\n",
    "    plt.ylabel('$\\ln (C_p)$')\n",
    "    plt.legend()\n",
    "    plt.show()\n",
    "    \n",
    "interact(oef10,fac=FloatSlider(min=20, max=40, step=2, value=30, description='$FD/V_d$', style=style, layout=slider_layout)\n",
    "        , ke=FloatSlider(min=0.2, max=0.3,step=0.01, value=0.2, description='$k_e$', style=style, layout=slider_layout)\n",
    "        , ka=FloatSlider(min=1, max=4,step=0.1, value=2, description='$k_a$', style=style, layout=slider_layout));"
   ]
  },
  {
   "cell_type": "markdown",
   "metadata": {},
   "source": [
    "# OEF 12"
   ]
  },
  {
   "cell_type": "markdown",
   "metadata": {},
   "source": [
    "Meervoudige IV bolusinjecties (250 mg) van een geneesmiddel worden elke 8 uur toegediend. Volgende\n",
    "PK parameters zijn gegeven: $V_d = 30$ L, $k_e = 0.1 \\text{u}^{-1}$.\n",
    "Bereken:\n",
    "\n",
    "<ul>\n",
    "<li>$C_p$ op 3 u na de 2de dosis.</li>\n",
    "<li>piek en dal concentraties gedurende het 2de dosisinterval.</li>\n",
    "</ul>\n"
   ]
  },
  {
   "cell_type": "code",
   "execution_count": 15,
   "metadata": {},
   "outputs": [
    {
     "data": {
      "application/vnd.jupyter.widget-view+json": {
       "model_id": "b76bceb8644440aba22faac517e02829",
       "version_major": 2,
       "version_minor": 0
      },
      "text/plain": [
       "interactive(children=(IntSlider(value=4, description='n', layout=Layout(width='50%'), max=10, min=1, style=Sli…"
      ]
     },
     "metadata": {},
     "output_type": "display_data"
    }
   ],
   "source": [
    "xmax12=40\n",
    "ymax12=20\n",
    "\n",
    "def oef12(n,D,Vd,ke,tau):\n",
    "\n",
    "\n",
    "    res=np.array([])\n",
    "    tijds=np.array([])\n",
    "\n",
    "    def cpvrij(t,n):\n",
    "        return (D/Vd)*(1-np.exp(-n*ke*tau))/(1-np.exp(-ke*tau))*np.exp(-ke*(t-i*tau))\n",
    "\n",
    "\n",
    "    for i in range(n-1):\n",
    "        t = np.linspace(i*tau,(i+1)*tau-0.01,40)\n",
    "        tijds=np.concatenate((tijds,t))\n",
    "        res=np.concatenate((res,cpvrij(t,i+1)))\n",
    "    \n",
    "    i=n-1\n",
    "    t = np.linspace(i*tau,(n+4)*tau-0.01,100)\n",
    "    tijds=np.concatenate((tijds,t))\n",
    "    res=np.concatenate((res,cpvrij(t,i+1)))\n",
    "\n",
    "    plt.plot(tijds,res, 'k')\n",
    "    plt.xlim(0,xmax12)\n",
    "    plt.ylim(0,ymax12)\n",
    "    plt.xlabel('t (h)')\n",
    "    plt.ylabel('$C_p$ (mg/L)')\n",
    "    plt.show()\n",
    "    \n",
    "    \n",
    "interact(oef12,D=FloatSlider(min=50, max=400, step=50, value=250, description='$D$', style=style, layout=slider_layout)\n",
    "        , Vd=FloatSlider(min=10, max=50,step=10, value=30, description='$V_d$', style=style, layout=slider_layout)\n",
    "        , n=IntSlider(min=1, max=10,step=1, value=4, description='n', style=style, layout=slider_layout)\n",
    "        , tau=FloatSlider(min=1, max=10,step=1, value=8, description=r'$\\tau$', style=style, layout=slider_layout)\n",
    "        , ke=FloatSlider(min=0.05, max=1,step=0.05, value=0.1, description='$k_e$', style=style, layout=slider_layout));"
   ]
  },
  {
   "cell_type": "markdown",
   "metadata": {},
   "source": [
    "# OEF 13"
   ]
  },
  {
   "cell_type": "markdown",
   "metadata": {},
   "source": [
    "Een man van 80 kg dient een behandeling te krijgen met een anti-epilepticum via intraveneuze injecties.\n",
    "Therapeutische range = 10-30 mg/L; $V_d=0.7$ L/kg; $Cl=4$ mL/(u.kg). Stel een doseringsschema\n",
    "op. Bepaal of er een ladingsdosis nodig is."
   ]
  },
  {
   "cell_type": "code",
   "execution_count": 16,
   "metadata": {},
   "outputs": [
    {
     "data": {
      "application/vnd.jupyter.widget-view+json": {
       "model_id": "20951e0351e2419899642653a16f5da0",
       "version_major": 2,
       "version_minor": 0
      },
      "text/plain": [
       "interactive(children=(IntSlider(value=10, description='n', layout=Layout(width='50%'), max=20, min=6, step=2, …"
      ]
     },
     "metadata": {},
     "output_type": "display_data"
    }
   ],
   "source": [
    "Cl13=0.004\n",
    "Vd13=0.7\n",
    "m13=80\n",
    "\n",
    "dmin13=10\n",
    "dmax13=30\n",
    "\n",
    "xmax13=500\n",
    "ymax13=40\n",
    "\n",
    "def oef13(n,D,tau,ladingsdosis):\n",
    "\n",
    "\n",
    "    res=np.array([])\n",
    "    tijds=np.array([])\n",
    "\n",
    "    def cpvrij(t,n):\n",
    "        return (D/(Vd13*m13))*(1-np.exp(-n*(Cl13/Vd13)*tau))/(1-np.exp(-(Cl13/Vd13)*tau))*np.exp(-(Cl13/(Vd13)*(t-i*tau)))\n",
    "\n",
    "    def cpvrijloaded(t,n):\n",
    "        return (D/(Vd13*m13))/(1-np.exp(-(Cl13/Vd13)*tau))*np.exp(-(Cl13/(Vd13)*(t-i*tau)))\n",
    "    \n",
    "    for i in range(n-1):\n",
    "        t = np.linspace(i*tau,(i+1)*tau-0.01,40)\n",
    "        tijds=np.concatenate((tijds,t))\n",
    "        \n",
    "        if ladingsdosis == False:\n",
    "            res=np.concatenate((res,cpvrij(t,i+1)))\n",
    "        else:\n",
    "            res=np.concatenate((res,cpvrijloaded(t,i+1)))\n",
    "    \n",
    "    i=n-1\n",
    "    t = np.linspace(i*tau,(n+4)*tau-0.01,100)\n",
    "    tijds=np.concatenate((tijds,t))\n",
    "    if ladingsdosis == False:\n",
    "        res=np.concatenate((res,cpvrij(t,i+1)))\n",
    "    else:\n",
    "        res=np.concatenate((res,cpvrijloaded(t,i+1)))\n",
    "\n",
    "    plt.plot(tijds,res, 'k')\n",
    "    plt.xlim(0,xmax13)\n",
    "    plt.ylim(0,ymax13)\n",
    "    plt.xlabel('t (h)')\n",
    "    plt.ylabel('$C_p$ (mg/L)')\n",
    "    \n",
    "    #plt.text(xmax-45,dmin+0.6,'minimum effectieve concentratie', fontsize=12)\n",
    "    plt.plot([0,xmax13], [dmin13,dmin13], 'k--')\n",
    "    plt.plot([0,xmax13], [dmax13,dmax13], 'k--')\n",
    "    \n",
    "    plt.show()\n",
    "    \n",
    "    \n",
    "interact(oef13, ladingsdosis=False\n",
    "        , D=FloatSlider(min=100, max=600, step=50, value=300, description='$D$', style=style, layout=slider_layout)\n",
    "        , n=IntSlider(min=6, max=20,step=2, value=10, description='n', style=style, layout=slider_layout)\n",
    "        , tau=FloatSlider(min=12, max=120,step=6, value=24, description=r'$\\tau$', style=style, layout=slider_layout));"
   ]
  },
  {
   "cell_type": "markdown",
   "metadata": {},
   "source": [
    "# OEF 14"
   ]
  },
  {
   "cell_type": "markdown",
   "metadata": {},
   "source": [
    "Een patiënt krijgt om de 12 u een intraveneuze injectie van een antibioticum (dosis: 400 mg) met\n",
    "een halfwaardetijd van 6 u. Het verdelingsvolume is 20 L. De farmacokinetiek beantwoordt aan een\n",
    "één-compartimenteel model.\n",
    "\n",
    "<ul>\n",
    "<li>Bereken de maximale en minimale hoeveelheden aanwezig in het organisme in functie van de tijd.\n",
    "Bepaal de gemiddelde steady-state concentratie.</li>\n",
    "<li>Teken de verwachte hoeveelheden van het geneesmiddel in het lichaam aanwezig in functie van de\n",
    "tijd. Indien de halfwaardetijd 12 u is, bereken en teken terug de maximale en minimale hoeveelheden\n",
    "in het lichaam voor eenzelfde doseringsschema. Wat kan je hieruit besluiten?</li>\n",
    "<li>Bepaal de ladingsdosis.</li>\n",
    "</ul>"
   ]
  },
  {
   "cell_type": "code",
   "execution_count": 17,
   "metadata": {},
   "outputs": [
    {
     "data": {
      "application/vnd.jupyter.widget-view+json": {
       "model_id": "01c5eb7c034045b5bbf16f8da58674dd",
       "version_major": 2,
       "version_minor": 0
      },
      "text/plain": [
       "interactive(children=(FloatSlider(value=400.0, description='$D$', layout=Layout(width='50%'), max=600.0, min=2…"
      ]
     },
     "metadata": {},
     "output_type": "display_data"
    }
   ],
   "source": [
    "n14=10\n",
    "tau14=12\n",
    "xmax14=120\n",
    "ymax14=80\n",
    "\n",
    "def oef14(D,t12,Vd,ladingsdosis):\n",
    "\n",
    "    \n",
    "\n",
    "    res=np.array([])\n",
    "    tijds=np.array([])\n",
    "    \n",
    "    Cl=0.693*Vd/t12\n",
    "\n",
    "    def cpvrij(t,n):\n",
    "        return (D/Vd)*(1-np.exp(-n*(Cl/Vd)*tau14))/(1-np.exp(-(Cl/Vd)*tau14))*np.exp(-(Cl/Vd)*(t-i*tau14))\n",
    "    \n",
    "    def cpss(t):\n",
    "        return (D/Vd)/(1-np.exp(-(Cl/Vd)*tau14))*np.exp(-(Cl/Vd)*(t))\n",
    "\n",
    "    def cpvrijloaded(t,n):\n",
    "        return (D/Vd)/(1-np.exp(-(Cl/Vd)*tau14))*np.exp(-(Cl/Vd)*(t-i*tau14))\n",
    "\n",
    "    for i in range(n14-1):\n",
    "        t = np.linspace(i*tau14,(i+1)*tau14-0.01,40)\n",
    "        tijds=np.concatenate((tijds,t))\n",
    "        if ladingsdosis==False:\n",
    "            res=np.concatenate((res,cpvrij(t,i+1)))\n",
    "        else:\n",
    "            res=np.concatenate((res,cpvrijloaded(t,i+1)))\n",
    "    \n",
    "    i=n14-1\n",
    "    t = np.linspace(i*tau14,(n14+4)*tau14-0.01,100)\n",
    "    tijds=np.concatenate((tijds,t))\n",
    "    if ladingsdosis==False:\n",
    "        res=np.concatenate((res,cpvrij(t,i+1)))\n",
    "    else:\n",
    "        res=np.concatenate((res,cpvrijloaded(t,i+1)))\n",
    "\n",
    "    plt.plot(tijds,res, 'k')\n",
    "    \n",
    "#    resss=cpss(tijds)\n",
    "#    plt.plot(tijds,resss, 'k--')\n",
    "    \n",
    "    plt.plot([0,xmax14], [D/Vd*1/(1-np.exp(-(Cl/Vd)*tau14)),D/Vd*1/(1-np.exp(-(Cl/Vd)*tau14))], 'k--')\n",
    "    plt.text(xmax14-15,D/Vd*1/(1-np.exp(-(Cl/Vd)*tau14))+2,'$C_{\\infty,max}$', fontsize=12)\n",
    "    plt.plot([0,xmax14], [D/Vd*1/(1-np.exp(-(Cl/Vd)*tau14))*np.exp(-(Cl/Vd)*tau14),D/Vd*1/(1-np.exp(-(Cl/Vd)*tau14))*np.exp(-(Cl/Vd)*tau14)], 'k--')\n",
    "    plt.text(xmax14-15,D/Vd*1/(1-np.exp(-(Cl/Vd)*tau14))*np.exp(-(Cl/Vd)*tau14)-4.5,'$C_{\\infty,min}$', fontsize=12)\n",
    "    \n",
    "    \n",
    "    plt.xlim(0,xmax14)\n",
    "    plt.ylim(0,ymax14)\n",
    "    plt.xlabel('t (h)')\n",
    "    plt.ylabel('$C_p$ (mg/L)')\n",
    "    \n",
    "    \n",
    "    plt.show()\n",
    "    \n",
    "    \n",
    "interact(oef14,ladingsdosis=False\n",
    "        , D=FloatSlider(min=200, max=600, step=50, value=400, description='$D$', style=style, layout=slider_layout)\n",
    "        , t12=IntSlider(min=3, max=15,step=3, value=6, description='$t_{1/2}$', style=style, layout=slider_layout)\n",
    "        , Vd=FloatSlider(min=10, max=30,step=2, value=20, description='$V_d$', style=style, layout=slider_layout));"
   ]
  },
  {
   "cell_type": "markdown",
   "metadata": {},
   "source": [
    "# OEF 20"
   ]
  },
  {
   "cell_type": "markdown",
   "metadata": {},
   "source": [
    "Een antibioticum wordt aan een volwassen patiënt (75 kg, 58 jaar) intraveneus geïnfundeerd. De\n",
    "halfwaardetijd is 8 u en het verdelingsvolume is 1,5 L/kg. Het geneesmiddel is voorhanden in 30\n",
    "mL-ampullen met een concentratie van 15 mg/mL. Men wenst een steady-state concentratie voor dit\n",
    "antibioticum gelijk aan 20 µg/mL te bereiken.\n",
    "\n",
    "<ul>\n",
    "<li>Welke infusiesnelheid zou je voorstellen voor deze patiënt?</li>\n",
    "<li>Welke ladingsdosis zou je toedienen?</li>\n",
    "<li>Indien de fabrikant van dit product een dosis gelijk aan 0,2 mL/u en per kg lichaamsgewicht voorstelt,\n",
    "wat zou dan de verwachte steady-state concentratie zijn?</li>\n",
    "</ul>"
   ]
  },
  {
   "cell_type": "code",
   "execution_count": 18,
   "metadata": {},
   "outputs": [
    {
     "data": {
      "application/vnd.jupyter.widget-view+json": {
       "model_id": "d43da841715948f4bdb35d2b38743c2f",
       "version_major": 2,
       "version_minor": 0
      },
      "text/plain": [
       "interactive(children=(FloatSlider(value=15.0, description='concentratie ampulle', layout=Layout(width='50%'), …"
      ]
     },
     "metadata": {},
     "output_type": "display_data"
    }
   ],
   "source": [
    "\n",
    "\n",
    "\n",
    "xmax20=48\n",
    "ymax20=0.03\n",
    "\n",
    "m20=75\n",
    "\n",
    "\n",
    "def oef20(conc,vol,t12,Vd,snel):\n",
    "    \n",
    "    # vol (ml)\n",
    "    # conc (mg/ml)\n",
    "    # snel (ml/h)\n",
    "    # Vd = 1.5 l/kg * 75 kg\n",
    "    \n",
    "    inftijd=vol/snel\n",
    "    uittijd=t12*4\n",
    "    k0=conc*snel\n",
    "    \n",
    "    t1 = np.linspace(0,inftijd-0.01,100)\n",
    "    t2 = np.linspace(0,uittijd,100)\n",
    "\n",
    "    def cp1(t):\n",
    "        return k0/(Vd*m20)/(0.693/t12)*(1-np.exp(-(0.693/t12)*t))\n",
    "\n",
    "    def cp2(t,init):\n",
    "        return init*np.exp(-(0.693/t12)*t)\n",
    "    \n",
    "    plt.figure(figsize=(10,7))\n",
    "    plt.subplot(111)\n",
    "    eerstegolf=cp1(t1)\n",
    "    tweedegolf=cp2(t2,eerstegolf[len(eerstegolf)-1])\n",
    "    plt.plot(np.concatenate((t1,t2+inftijd)),np.concatenate((eerstegolf,tweedegolf)), 'k')\n",
    "    \n",
    "#    plt.plot([0,xmax], [k0/(0.693/t12)/Vd,k0/(0.693/t12)/Vd], 'k--')\n",
    "#    plt.text(xmax-5,k0/(0.693/t12)/Vd+0.2,'$C_{ss,gewenst}$', fontsize=12)\n",
    "    \n",
    "    plt.plot([0,xmax20], [0.020,0.020], 'k--')\n",
    "    plt.text(xmax20-5,0.020+0.001,'$C_{ss,gewenst}$', fontsize=12)\n",
    "    \n",
    "    \n",
    "    plt.xlim(0,xmax20)\n",
    "    plt.ylim(0,ymax20)\n",
    "    plt.xlabel('t (h)')\n",
    "    plt.ylabel('$C_p$ (mg/L)')\n",
    "    plt.show()\n",
    "    \n",
    "\n",
    "interact(oef20,t12=FloatSlider(min=2, max=16, step=2, value=8, description='$t_{1/2}$', style=style, layout=slider_layout)\n",
    "     #   , Vd=FloatSlider(min=0.5, max=4,step=0.5, value=1.5, description='$V_d$', style=style, layout=slider_layout)\n",
    "        , Vd=FloatSlider(min=500, max=4000,step=500, value=1500, description='$V_d$', style=style, layout=slider_layout)\n",
    "        , conc=FloatSlider(min=5, max=30,step=5, value=15, description='concentratie ampulle', style=style, layout=slider_layout)\n",
    "        , vol=FloatSlider(min=10, max=50,step=5, value=30, description='volume ampulle', style=style, layout=slider_layout)\n",
    "        , snel=FloatSlider(min=5, max=15,step=1, value=10, description='infusiesnelheid', style=style, layout=slider_layout));"
   ]
  },
  {
   "cell_type": "markdown",
   "metadata": {},
   "source": [
    "# OEF 21"
   ]
  },
  {
   "cell_type": "markdown",
   "metadata": {},
   "source": [
    "Onderstaande meetdata werden verkregen bij intraveneuze infusie van een geneesmiddel met een\n",
    "infuussnelheid van 50 mg/u gedurende 7,5 u.\n",
    "\n",
    "Bepaal het distributievolume, de eliminatiesnelheidsconstante, de eliminatiehalfwaardetijd en de klaring."
   ]
  },
  {
   "cell_type": "code",
   "execution_count": 19,
   "metadata": {},
   "outputs": [
    {
     "data": {
      "application/vnd.jupyter.widget-view+json": {
       "model_id": "3e6ea4d8feea4842aa3edd281653d6bf",
       "version_major": 2,
       "version_minor": 0
      },
      "text/plain": [
       "interactive(children=(FloatSlider(value=20.0, description='$V_d$', layout=Layout(width='50%'), max=30.0, min=1…"
      ]
     },
     "metadata": {},
     "output_type": "display_data"
    }
   ],
   "source": [
    "k021=50\n",
    "inftijd21=7.5\n",
    "uittijd21=7\n",
    "\n",
    "x21 = [0,2,4,6,7.5,9,12]\n",
    "y21 = [0,3.4,5.4,6.5,7,4.6,2]\n",
    "\n",
    "xmax21=14\n",
    "ymax21=10\n",
    "\n",
    "\n",
    "t121 = np.linspace(0,inftijd21-0.01,100)\n",
    "t221 = np.linspace(0,uittijd21,100)\n",
    "\n",
    "def oef21(Vd,Cl):\n",
    "    def cp1(t):\n",
    "        return k021/Vd/(Cl/Vd)*(1-np.exp(-(Cl/Vd)*t))\n",
    "\n",
    "    def cp2(t,init):\n",
    "        return init*np.exp(-(Cl/Vd)*t)\n",
    "    \n",
    "    plt.figure(figsize=(10,7))\n",
    "    plt.subplot(111)\n",
    "    eerstegolf=cp1(t121)\n",
    "    tweedegolf=cp2(t221,eerstegolf[len(eerstegolf)-1])\n",
    "    plt.plot(np.concatenate((t121,t221+inftijd21)),np.concatenate((eerstegolf,tweedegolf)), 'k')\n",
    "    plt.plot(x21, y21, 'o', color='g')\n",
    "    plt.xlim(0,xmax21)\n",
    "    plt.ylim(0,ymax21)\n",
    "    plt.xlabel('t (h)')\n",
    "    plt.ylabel('$C_p$ (mg/L)')\n",
    "    plt.show()\n",
    "    \n",
    "interact(oef21,Cl=FloatSlider(min=2, max=8, step=0.5, value=5, description='$Cl$', style=style, layout=slider_layout)\n",
    "        , Vd=FloatSlider(min=10, max=30,step=2, value=20, description='$V_d$', style=style, layout=slider_layout));"
   ]
  },
  {
   "cell_type": "markdown",
   "metadata": {},
   "source": [
    "# OEF 23"
   ]
  },
  {
   "cell_type": "markdown",
   "metadata": {},
   "source": [
    "Stel dat je dronken bent (1,7 g/L). Hoelang duurt het voordat je (volgens de Belgische wetgeving)\n",
    "met de wagen mag rijden? (Vd = 42 L; Km = 82 mg/L; Vmax = 10 g/u voor een volwassen persoon van\n",
    "70 kg)"
   ]
  },
  {
   "cell_type": "code",
   "execution_count": 20,
   "metadata": {},
   "outputs": [
    {
     "data": {
      "application/vnd.jupyter.widget-view+json": {
       "model_id": "10230c1d6e2d41d2a93edd2eb92e6262",
       "version_major": 2,
       "version_minor": 0
      },
      "text/plain": [
       "interactive(children=(FloatSlider(value=1.7, description='initiële hoeveelheid', layout=Layout(width='50%'), m…"
      ]
     },
     "metadata": {},
     "output_type": "display_data"
    }
   ],
   "source": [
    "Vmax23=10\n",
    "Vd23=42\n",
    "\n",
    "xmax23=12\n",
    "ymax23=3\n",
    "\n",
    "def oef23(init):\n",
    "    \n",
    "    \n",
    "    \n",
    "    def cpvrij(t,init):\n",
    "        return init-Vmax23/Vd23*t\n",
    "    \n",
    "    t = np.linspace(0,init/(Vmax23/Vd23),100)\n",
    "    plt.figure(figsize=(10,7))\n",
    "    plt.subplot(111)\n",
    "    plt.plot(t,cpvrij(t,init), 'k')\n",
    "    \n",
    "    \n",
    "    plt.text(xmax23-1.8,0.2+0.05,'grenswaarde', fontsize=12)\n",
    "    plt.plot([0,xmax23], [0.2,0.2], 'k--')\n",
    "    plt.xlim(0,xmax23)\n",
    "    plt.ylim(0,ymax23)\n",
    "    plt.xlabel('t (h)')\n",
    "    plt.ylabel('concentratie (g/L)')\n",
    "    plt.show()\n",
    "    \n",
    "interact(oef23,init=FloatSlider(min=0.8, max=3, step=0.3, value=1.7, description='initiële hoeveelheid', style=style, layout=slider_layout));"
   ]
  }
 ],
 "metadata": {
  "kernelspec": {
   "display_name": "Python 3",
   "language": "python",
   "name": "python3"
  },
  "language_info": {
   "codemirror_mode": {
    "name": "ipython",
    "version": 3
   },
   "file_extension": ".py",
   "mimetype": "text/x-python",
   "name": "python",
   "nbconvert_exporter": "python",
   "pygments_lexer": "ipython3",
   "version": "3.7.4"
  }
 },
 "nbformat": 4,
 "nbformat_minor": 2
}
